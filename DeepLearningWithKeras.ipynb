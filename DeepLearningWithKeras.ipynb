{
  "nbformat": 4,
  "nbformat_minor": 0,
  "metadata": {
    "colab": {
      "name": "DeepLearningWithKeras.ipynb",
      "provenance": [],
      "machine_shape": "hm",
      "authorship_tag": "ABX9TyPxsc6XkNuOUF5bPAT4yXEM",
      "include_colab_link": true
    },
    "kernelspec": {
      "name": "python3",
      "display_name": "Python 3"
    }
  },
  "cells": [
    {
      "cell_type": "markdown",
      "metadata": {
        "id": "view-in-github",
        "colab_type": "text"
      },
      "source": [
        "<a href=\"https://colab.research.google.com/github/ajrotert/Machine-Learning/blob/master/DeepLearningWithKeras.ipynb\" target=\"_parent\"><img src=\"https://colab.research.google.com/assets/colab-badge.svg\" alt=\"Open In Colab\"/></a>"
      ]
    },
    {
      "cell_type": "markdown",
      "metadata": {
        "id": "9GEOq9pDvaR8",
        "colab_type": "text"
      },
      "source": [
        "  ## Loading the IMDB dataset"
      ]
    },
    {
      "cell_type": "code",
      "metadata": {
        "id": "cGuTE7SAvGCI",
        "colab_type": "code",
        "colab": {}
      },
      "source": [
        "from keras.datasets import imdb\n",
        "num_words = 10000\n",
        "(train_data, train_labels), (test_data, test_labels) = imdb.load_data(num_words=num_words)"
      ],
      "execution_count": 0,
      "outputs": []
    },
    {
      "cell_type": "markdown",
      "metadata": {
        "id": "eKQc1jVnv-Ar",
        "colab_type": "text"
      },
      "source": [
        "    Imports the dataset with the top 10,000 frequently occurring words"
      ]
    },
    {
      "cell_type": "markdown",
      "metadata": {
        "id": "uJzwNxUXwfot",
        "colab_type": "text"
      },
      "source": [
        "Decode words to english (doesn't effect the model)"
      ]
    },
    {
      "cell_type": "code",
      "metadata": {
        "id": "dvFKCiPzwUbB",
        "colab_type": "code",
        "colab": {
          "base_uri": "https://localhost:8080/",
          "height": 54
        },
        "outputId": "339cbe21-9009-430b-a75a-82f41fc0b5d5"
      },
      "source": [
        "word_index = imdb.get_word_index()                                                      #mapping words to integers\n",
        "reverse_word_index = dict([(value, key) for (key, value) in word_index.items()])        #mapping integer to words\n",
        "decodeed_review = ' '.join([reverse_word_index.get(i-3, '?') for i in train_data[0]])   #Decodes the first review\n",
        "print(decodeed_review);"
      ],
      "execution_count": 191,
      "outputs": [
        {
          "output_type": "stream",
          "text": [
            "? this film was just brilliant casting location scenery story direction everyone's really suited the part they played and you could just imagine being there robert ? is an amazing actor and now the same being director ? father came from the same scottish island as myself so i loved the fact there was a real connection with this film the witty remarks throughout the film were great it was just brilliant so much that i bought the film as soon as it was released for ? and would recommend it to everyone to watch and the fly fishing was amazing really cried at the end it was so sad and you know what they say if you cry at a film it must have been good and this definitely was also ? to the two little boy's that played the ? of norman and paul they were just brilliant children are often left out of the ? list i think because the stars that play them all grown up are such a big profile for the whole film but these children are amazing and should be praised for what they have done don't you think the whole story was so lovely because it was true and was someone's life after all that was shared with us all\n"
          ],
          "name": "stdout"
        }
      ]
    },
    {
      "cell_type": "markdown",
      "metadata": {
        "id": "fVb-w6GZyDST",
        "colab_type": "text"
      },
      "source": [
        "## Preparing the Data"
      ]
    },
    {
      "cell_type": "code",
      "metadata": {
        "id": "O27Y9oOjyIuq",
        "colab_type": "code",
        "colab": {}
      },
      "source": [
        "import numpy as np\n",
        "def vectorize_sequences(sequence, dimensions=num_words):\n",
        "  results  = np.zeros((len(sequence), dimensions))          #matrix of all zeros\n",
        "  for i, sequenced in enumerate(sequence):\n",
        "    results[i,sequenced] = 1.                               #words turned to ones\n",
        "  return results\n",
        "\n",
        "x_train = vectorize_sequences(train_data)                   #vectorize training data\n",
        "x_test = vectorize_sequences(test_data)                     #vectorize test data\n",
        "\n",
        "y_train = np.asarray(train_labels).astype('float32')\n",
        "y_test = np.asarray(test_labels).astype('float32')"
      ],
      "execution_count": 0,
      "outputs": []
    },
    {
      "cell_type": "markdown",
      "metadata": {
        "id": "xhhvx50wz7F4",
        "colab_type": "text"
      },
      "source": [
        "##Building Neural Network"
      ]
    },
    {
      "cell_type": "code",
      "metadata": {
        "id": "_rnbU6qaz_o-",
        "colab_type": "code",
        "colab": {}
      },
      "source": [
        "from keras import models\n",
        "from keras import layers\n",
        "\n",
        "model = models.Sequential()\n",
        "model.add(layers.Dense(100, activation='elu', input_shape=(num_words,))) # input layer\n",
        "\n",
        "model.add(layers.Dense(50, activation='elu'))                           # Hidden layer\n",
        "model.add(layers.Dropout(.2))\n",
        "model.add(layers.Dense(50, activation='elu'))\n",
        "model.add(layers.Dropout(.2))\n",
        "model.add(layers.Dense(50, activation='elu'))\n",
        "model.add(layers.Dropout(.2))\n",
        "model.add(layers.Dense(50, activation='elu'))\n",
        "model.add(layers.Dropout(.2))\n",
        "model.add(layers.Dense(25, activation='elu'))\n",
        "model.add(layers.Dropout(.2))\n",
        "model.add(layers.Dense(10, activation='elu'))\n",
        "model.add(layers.Dropout(.2))\n",
        "\n",
        "model.add(layers.Dense(1, activation='sigmoid'))                         # output layer"
      ],
      "execution_count": 0,
      "outputs": []
    },
    {
      "cell_type": "code",
      "metadata": {
        "id": "kYYQ4AI51TZ4",
        "colab_type": "code",
        "colab": {}
      },
      "source": [
        "from keras import optimizers\n",
        "from keras import losses\n",
        "from keras import metrics\n",
        "\n",
        "model.compile(optimizer=optimizers.RMSprop(), loss = losses.binary_crossentropy, metrics=[metrics.binary_accuracy])"
      ],
      "execution_count": 0,
      "outputs": []
    },
    {
      "cell_type": "markdown",
      "metadata": {
        "id": "MT8R91ce2oAa",
        "colab_type": "text"
      },
      "source": [
        "## Training model\n"
      ]
    },
    {
      "cell_type": "code",
      "metadata": {
        "id": "E0238o4G2q_c",
        "colab_type": "code",
        "colab": {}
      },
      "source": [
        "x_val = x_train[:num_words]\n",
        "partial_x_train = x_train[num_words:]\n",
        "y_val = y_train[:num_words]\n",
        "partial_y_train = y_train[num_words:]"
      ],
      "execution_count": 0,
      "outputs": []
    },
    {
      "cell_type": "code",
      "metadata": {
        "id": "_lAjLd033WM5",
        "colab_type": "code",
        "colab": {
          "base_uri": "https://localhost:8080/",
          "height": 714
        },
        "outputId": "06215579-c4fa-4518-f6c4-d338c5de759a"
      },
      "source": [
        "history = model.fit(partial_x_train,partial_y_train,epochs=20,batch_size=10,validation_data=(x_val,y_val))"
      ],
      "execution_count": 196,
      "outputs": [
        {
          "output_type": "stream",
          "text": [
            "Train on 15000 samples, validate on 10000 samples\n",
            "Epoch 1/20\n",
            "15000/15000 [==============================] - 17s 1ms/step - loss: 0.3740 - binary_accuracy: 0.8469 - val_loss: 0.3165 - val_binary_accuracy: 0.8853\n",
            "Epoch 2/20\n",
            "15000/15000 [==============================] - 14s 932us/step - loss: 0.2468 - binary_accuracy: 0.9149 - val_loss: 0.2986 - val_binary_accuracy: 0.8923\n",
            "Epoch 3/20\n",
            "15000/15000 [==============================] - 14s 933us/step - loss: 0.2074 - binary_accuracy: 0.9306 - val_loss: 0.3187 - val_binary_accuracy: 0.8894\n",
            "Epoch 4/20\n",
            "15000/15000 [==============================] - 14s 917us/step - loss: 0.1914 - binary_accuracy: 0.9401 - val_loss: 0.3332 - val_binary_accuracy: 0.8874\n",
            "Epoch 5/20\n",
            "15000/15000 [==============================] - 14s 913us/step - loss: 0.1770 - binary_accuracy: 0.9472 - val_loss: 0.2906 - val_binary_accuracy: 0.8883\n",
            "Epoch 6/20\n",
            "15000/15000 [==============================] - 14s 936us/step - loss: 0.1659 - binary_accuracy: 0.9557 - val_loss: 0.2986 - val_binary_accuracy: 0.8867\n",
            "Epoch 7/20\n",
            "15000/15000 [==============================] - 14s 925us/step - loss: 0.1418 - binary_accuracy: 0.9631 - val_loss: 0.6075 - val_binary_accuracy: 0.8857\n",
            "Epoch 8/20\n",
            "15000/15000 [==============================] - 14s 916us/step - loss: 0.1354 - binary_accuracy: 0.9677 - val_loss: 0.6030 - val_binary_accuracy: 0.8821\n",
            "Epoch 9/20\n",
            "15000/15000 [==============================] - 14s 917us/step - loss: 0.1303 - binary_accuracy: 0.9731 - val_loss: 0.5643 - val_binary_accuracy: 0.8733\n",
            "Epoch 10/20\n",
            "15000/15000 [==============================] - 15s 968us/step - loss: 0.1151 - binary_accuracy: 0.9774 - val_loss: 0.9479 - val_binary_accuracy: 0.8736\n",
            "Epoch 11/20\n",
            "15000/15000 [==============================] - 14s 954us/step - loss: 0.1153 - binary_accuracy: 0.9824 - val_loss: 1.1066 - val_binary_accuracy: 0.8681\n",
            "Epoch 12/20\n",
            "15000/15000 [==============================] - 14s 918us/step - loss: 0.1016 - binary_accuracy: 0.9881 - val_loss: 1.7057 - val_binary_accuracy: 0.8778\n",
            "Epoch 13/20\n",
            "15000/15000 [==============================] - 14s 909us/step - loss: 0.1113 - binary_accuracy: 0.9884 - val_loss: 1.8798 - val_binary_accuracy: 0.8714\n",
            "Epoch 14/20\n",
            "15000/15000 [==============================] - 14s 926us/step - loss: 0.1244 - binary_accuracy: 0.9907 - val_loss: 1.7269 - val_binary_accuracy: 0.8764\n",
            "Epoch 15/20\n",
            "15000/15000 [==============================] - 14s 920us/step - loss: 0.1070 - binary_accuracy: 0.9910 - val_loss: 1.7752 - val_binary_accuracy: 0.8747\n",
            "Epoch 16/20\n",
            "15000/15000 [==============================] - 14s 927us/step - loss: 0.1181 - binary_accuracy: 0.9900 - val_loss: 1.7820 - val_binary_accuracy: 0.8695\n",
            "Epoch 17/20\n",
            "15000/15000 [==============================] - 14s 913us/step - loss: 0.1346 - binary_accuracy: 0.9864 - val_loss: 1.2796 - val_binary_accuracy: 0.8675\n",
            "Epoch 18/20\n",
            "15000/15000 [==============================] - 14s 944us/step - loss: 0.1208 - binary_accuracy: 0.9821 - val_loss: 1.4462 - val_binary_accuracy: 0.8696\n",
            "Epoch 19/20\n",
            "15000/15000 [==============================] - 14s 954us/step - loss: 0.0919 - binary_accuracy: 0.9919 - val_loss: 1.7914 - val_binary_accuracy: 0.8699\n",
            "Epoch 20/20\n",
            "15000/15000 [==============================] - 15s 997us/step - loss: 0.0783 - binary_accuracy: 0.9919 - val_loss: 1.7258 - val_binary_accuracy: 0.8747\n"
          ],
          "name": "stdout"
        }
      ]
    },
    {
      "cell_type": "markdown",
      "metadata": {
        "id": "6CvDs9Pd5kvU",
        "colab_type": "text"
      },
      "source": [
        "## Visualize Results"
      ]
    },
    {
      "cell_type": "code",
      "metadata": {
        "id": "bwcI1Uln4ozx",
        "colab_type": "code",
        "colab": {
          "base_uri": "https://localhost:8080/",
          "height": 295
        },
        "outputId": "1040b63b-6417-47c5-d919-2006af47b680"
      },
      "source": [
        "import matplotlib.pyplot as plt\n",
        "\n",
        "history_dict = history.history\n",
        "loss_values = history_dict['loss']\n",
        "val_loss_values = history_dict['val_loss']\n",
        "\n",
        "epochs = range(1, len(loss_values) + 1)\n",
        "\n",
        "plt.plot(epochs, loss_values, 'b--', label='Training Loss')\n",
        "plt.plot(epochs, val_loss_values, 'r--', label='Validation Loss')\n",
        "plt.title('Training and Validation Loss')\n",
        "plt.xlabel('Epochs')\n",
        "plt.ylabel('Loss')\n",
        "plt.legend()\n",
        "plt.show()"
      ],
      "execution_count": 197,
      "outputs": [
        {
          "output_type": "display_data",
          "data": {
            "image/png": "[encoded data removed]",
            "text/plain": [
              "<Figure size 432x288 with 1 Axes>"
            ]
          },
          "metadata": {
            "tags": []
          }
        }
      ]
    },
    {
      "cell_type": "code",
      "metadata": {
        "id": "dWUDz2mC5v95",
        "colab_type": "code",
        "colab": {
          "base_uri": "https://localhost:8080/",
          "height": 295
        },
        "outputId": "08aa3a5c-ee51-4b25-95a1-d3cc36f67647"
      },
      "source": [
        "plt.clf()\n",
        "acc=history_dict['binary_accuracy']\n",
        "val_acc = history_dict['val_binary_accuracy']\n",
        "\n",
        "plt.plot(epochs, acc, 'b--', label='Training Accuracy')\n",
        "plt.plot(epochs, val_acc, 'r--', label='Validation Accuracy')\n",
        "plt.title('Training and Validation Accuracy')\n",
        "plt.xlabel('Epochs')\n",
        "plt.ylabel('Accuracy')\n",
        "plt.legend()\n",
        "plt.show()\n",
        "\n"
      ],
      "execution_count": 198,
      "outputs": [
        {
          "output_type": "display_data",
          "data": {
            "image/png": "[encoded data removed]",
            "text/plain": [
              "<Figure size 432x288 with 1 Axes>"
            ]
          },
          "metadata": {
            "tags": []
          }
        }
      ]
    },
    {
      "cell_type": "markdown",
      "metadata": {
        "id": "zaDcfj-879Mu",
        "colab_type": "text"
      },
      "source": [
        "## Making Predictions"
      ]
    },
    {
      "cell_type": "code",
      "metadata": {
        "id": "Mu1lz2ME8AE8",
        "colab_type": "code",
        "colab": {
          "base_uri": "https://localhost:8080/",
          "height": 68
        },
        "outputId": "2ebeac15-9a9c-4c2f-ccfe-f11ca96251bc"
      },
      "source": [
        "pre = model.predict(x_test)\n",
        "\n",
        "accuracy_matrix = np.array([[0,0],[0,0]])\n",
        "\n",
        "for i in range(num_words):\n",
        "  pos1 = int(round(pre[i,0]))\n",
        "  pos2 = int((y_test[i]))\n",
        "  accuracy_matrix[pos1,pos2]+=1\n",
        "\n",
        "print('accuracy: ', (accuracy_matrix[0,0]+accuracy_matrix[1,1])/num_words)\n",
        "print(accuracy_matrix)"
      ],
      "execution_count": 199,
      "outputs": [
        {
          "output_type": "stream",
          "text": [
            "accuracy:  0.8586\n",
            "[[4401  788]\n",
            " [ 626 4185]]\n"
          ],
          "name": "stdout"
        }
      ]
    },
    {
      "cell_type": "code",
      "metadata": {
        "id": "Gu335CvBCvgo",
        "colab_type": "code",
        "colab": {
          "base_uri": "https://localhost:8080/",
          "height": 311
        },
        "outputId": "63244c23-8ea9-4e7a-c034-e9d28e210856"
      },
      "source": [
        "import pandas as pd\n",
        "import seaborn as sns\n",
        "\n",
        "plt.clf()\n",
        "cm = pd.DataFrame(accuracy_matrix)\n",
        "sns.heatmap(cm, annot=True, cbar=None, cmap='Blues',fmt='2.0f')\n",
        "plt.title(\"Confusion Matrix\"), plt.tight_layout()\n",
        "plt.ylabel(\"True Class\"), plt.xlabel(\"Predicted Class\")\n",
        "plt.show()"
      ],
      "execution_count": 200,
      "outputs": [
        {
          "output_type": "display_data",
          "data": {
            "image/png": "[encoded data removed]",
            "text/plain": [
              "<Figure size 432x288 with 1 Axes>"
            ]
          },
          "metadata": {
            "tags": []
          }
        }
      ]
    }
  ]
}