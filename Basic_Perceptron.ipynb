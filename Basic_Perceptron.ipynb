{
  "nbformat": 4,
  "nbformat_minor": 0,
  "metadata": {
    "colab": {
      "name": "Basic Perceptron.ipynb",
      "provenance": [],
      "authorship_tag": "ABX9TyPOlHHTtEVJchqPKZSB3KLY",
      "include_colab_link": true
    },
    "kernelspec": {
      "name": "python3",
      "display_name": "Python 3"
    }
  },
  "cells": [
    {
      "cell_type": "markdown",
      "metadata": {
        "id": "view-in-github",
        "colab_type": "text"
      },
      "source": [
        "<a href=\"https://colab.research.google.com/github/ajrotert/Machine-Learning/blob/master/Basic_Perceptron.ipynb\" target=\"_parent\"><img src=\"https://colab.research.google.com/assets/colab-badge.svg\" alt=\"Open In Colab\"/></a>"
      ]
    },
    {
      "cell_type": "markdown",
      "metadata": {
        "id": "1kcn5CA3ryvw",
        "colab_type": "text"
      },
      "source": [
        "##Perceptron"
      ]
    },
    {
      "cell_type": "markdown",
      "metadata": {
        "id": "CjeTlH1kr5ap",
        "colab_type": "text"
      },
      "source": [
        "    Introduction to neural nets, using perceptrons"
      ]
    },
    {
      "cell_type": "markdown",
      "metadata": {
        "id": "Z7QijCPcx5zv",
        "colab_type": "text"
      },
      "source": [
        "Defining Class"
      ]
    },
    {
      "cell_type": "code",
      "metadata": {
        "id": "rci-fIhLryOH",
        "colab_type": "code",
        "colab": {}
      },
      "source": [
        "import numpy as np\n",
        "\n",
        "class Perceptron(object):\n",
        "    #inupt size are the number of features (2)\n",
        "  def __init__(self, input_size, lr=1, epochs=100):\n",
        "    self.matrix_weights = np.zeros(input_size + 1)\n",
        "    self.epochs = epochs\n",
        "    self.lr = lr\n",
        "\n",
        "  def activation_fn(self, x):\n",
        "    return 1 if x >= 0 else 0\n",
        "\n",
        "  def predict(self, vector_x):\n",
        "    z = self.matrix_weights.T.dot(vector_x)\n",
        "    return self.activation_fn(z)\n",
        "    \n",
        "  def fit(self, matrix_x, d, show_weights):\n",
        "    for _ in range(self.epochs):\n",
        "      for i in range(d.shape[0]):\n",
        "        x= np.insert(matrix_x[i], 0, 1)\n",
        "        y= self.predict(x)\n",
        "        error_rate = d[i] - y\n",
        "        self.matrix_weights = self.matrix_weights + self.lr * error_rate * x\n",
        "        if(show_weights):\n",
        "          print(self.matrix_weights)\n"
      ],
      "execution_count": 0,
      "outputs": []
    },
    {
      "cell_type": "markdown",
      "metadata": {
        "id": "Swu2ISw-x-cp",
        "colab_type": "text"
      },
      "source": [
        "Creating Input"
      ]
    },
    {
      "cell_type": "code",
      "metadata": {
        "id": "7mcioE5uxZ7j",
        "colab_type": "code",
        "colab": {}
      },
      "source": [
        "X = np.array([[0, 0], [0, 1], [1, 0], [1, 1]])  #input\n",
        "AND = np.array([0, 0, 0, 1])                    #actual values for AND gate\n",
        "OR = np.array([0, 1, 1, 1])                     #actual values for OR gate"
      ],
      "execution_count": 0,
      "outputs": []
    },
    {
      "cell_type": "markdown",
      "metadata": {
        "id": "9r0foPS_z3ki",
        "colab_type": "text"
      },
      "source": [
        "Running Model"
      ]
    },
    {
      "cell_type": "code",
      "metadata": {
        "id": "ljMXqBgVyDBM",
        "colab_type": "code",
        "colab": {
          "base_uri": "https://localhost:8080/",
          "height": 85
        },
        "outputId": "bf706475-dd4a-40e6-8a3b-fdeb36b6f94e"
      },
      "source": [
        "perceptron = Perceptron(input_size = 2)\n",
        "perceptron.fit(X, AND, 0)\n",
        "print('AND Weights')\n",
        "print(perceptron.matrix_weights)\n",
        "perceptron1 = Perceptron(input_size = 2)\n",
        "perceptron1.fit(X, OR, 0)\n",
        "print('OR Weights')\n",
        "print(perceptron1.matrix_weights)"
      ],
      "execution_count": 40,
      "outputs": [
        {
          "output_type": "stream",
          "text": [
            "AND Weights\n",
            "[-3.  2.  1.]\n",
            "OR Weights\n",
            "[-1.  1.  1.]\n"
          ],
          "name": "stdout"
        }
      ]
    }
  ]
}