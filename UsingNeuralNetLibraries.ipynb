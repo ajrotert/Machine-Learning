{
  "nbformat": 4,
  "nbformat_minor": 0,
  "metadata": {
    "colab": {
      "name": "UsingNeuralNetLibraries.ipynb",
      "provenance": [],
      "authorship_tag": "ABX9TyPSz4oR7yP6BtTRL2LekXId",
      "include_colab_link": true
    },
    "kernelspec": {
      "name": "python3",
      "display_name": "Python 3"
    }
  },
  "cells": [
    {
      "cell_type": "markdown",
      "metadata": {
        "id": "view-in-github",
        "colab_type": "text"
      },
      "source": [
        "<a href=\"https://colab.research.google.com/github/ajrotert/Machine-Learning/blob/master/UsingNeuralNetLibraries.ipynb\" target=\"_parent\"><img src=\"https://colab.research.google.com/assets/colab-badge.svg\" alt=\"Open In Colab\"/></a>"
      ]
    },
    {
      "cell_type": "markdown",
      "metadata": {
        "id": "AFi6noscwBSp",
        "colab_type": "text"
      },
      "source": [
        "##Neural Network Design"
      ]
    },
    {
      "cell_type": "markdown",
      "metadata": {
        "id": "1EHjyVA-w2aY",
        "colab_type": "text"
      },
      "source": [
        "Model using Normal Distribution "
      ]
    },
    {
      "cell_type": "code",
      "metadata": {
        "id": "DPC-g7NwwATD",
        "colab_type": "code",
        "outputId": "a58e0b23-db57-4753-c8d3-05ea5777262a",
        "colab": {
          "resources": {
            "http://localhost:8080/nbextensions/google.colab/files.js": {
              "data": "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",
              "ok": true,
              "headers": [
                [
                  "content-type",
                  "application/javascript"
                ]
              ],
              "status": 200,
              "status_text": ""
            }
          },
          "base_uri": "https://localhost:8080/",
          "height": 75
        }
      },
      "source": [
        "import numpy as np \n",
        "import pandas as pd\n",
        "import matplotlib.pyplot as plt\n",
        "import seaborn as sns\n",
        "import warnings\n",
        "from google.colab import files\n",
        "import io\n",
        "\n",
        "plt.style.use('fivethirtyeight')\n",
        "warnings.filterwarnings('ignore')\n",
        "%matplotlib inline\n",
        "\n",
        "uploaded = files.upload()\n",
        "#dataset is used for the training data\n",
        "dataset = pd.read_csv(io.BytesIO(uploaded['train_cleaned.csv']), sep=\",\")"
      ],
      "execution_count": 107,
      "outputs": [
        {
          "output_type": "display_data",
          "data": {
            "text/html": [
              "\n",
              "     <input type=\"file\" id=\"files-8cae3625-18e4-4b02-b0f9-366c637b1896\" name=\"files[]\" multiple disabled />\n",
              "     <output id=\"result-8cae3625-18e4-4b02-b0f9-366c637b1896\">\n",
              "      Upload widget is only available when the cell has been executed in the\n",
              "      current browser session. Please rerun this cell to enable.\n",
              "      </output>\n",
              "      <script src=\"/nbextensions/google.colab/files.js\"></script> "
            ],
            "text/plain": [
              "<IPython.core.display.HTML object>"
            ]
          },
          "metadata": {
            "tags": []
          }
        },
        {
          "output_type": "stream",
          "text": [
            "Saving train_cleaned.csv to train_cleaned (2).csv\n"
          ],
          "name": "stdout"
        }
      ]
    },
    {
      "cell_type": "markdown",
      "metadata": {
        "id": "WdwxxaJ5xbD3",
        "colab_type": "text"
      },
      "source": [
        "    initial setup\n"
      ]
    },
    {
      "cell_type": "code",
      "metadata": {
        "id": "CsVzNM8wxdxU",
        "colab_type": "code",
        "outputId": "3675036b-a432-4933-feb9-187643d403fc",
        "colab": {
          "base_uri": "https://localhost:8080/",
          "height": 297
        }
      },
      "source": [
        "dataset.describe()"
      ],
      "execution_count": 108,
      "outputs": [
        {
          "output_type": "execute_result",
          "data": {
            "text/html": [
              "<div>\n",
              "<style scoped>\n",
              "    .dataframe tbody tr th:only-of-type {\n",
              "        vertical-align: middle;\n",
              "    }\n",
              "\n",
              "    .dataframe tbody tr th {\n",
              "        vertical-align: top;\n",
              "    }\n",
              "\n",
              "    .dataframe thead th {\n",
              "        text-align: right;\n",
              "    }\n",
              "</style>\n",
              "<table border=\"1\" class=\"dataframe\">\n",
              "  <thead>\n",
              "    <tr style=\"text-align: right;\">\n",
              "      <th></th>\n",
              "      <th>Survived</th>\n",
              "      <th>Pclass</th>\n",
              "      <th>Sex</th>\n",
              "      <th>Age_band</th>\n",
              "      <th>Family_Size</th>\n",
              "      <th>Fare_cat</th>\n",
              "      <th>C</th>\n",
              "      <th>S</th>\n",
              "    </tr>\n",
              "  </thead>\n",
              "  <tbody>\n",
              "    <tr>\n",
              "      <th>count</th>\n",
              "      <td>891.000000</td>\n",
              "      <td>891.000000</td>\n",
              "      <td>891.000000</td>\n",
              "      <td>891.000000</td>\n",
              "      <td>891.000000</td>\n",
              "      <td>891.000000</td>\n",
              "      <td>891.000000</td>\n",
              "      <td>891.000000</td>\n",
              "    </tr>\n",
              "    <tr>\n",
              "      <th>mean</th>\n",
              "      <td>0.383838</td>\n",
              "      <td>2.308642</td>\n",
              "      <td>0.352413</td>\n",
              "      <td>1.439955</td>\n",
              "      <td>0.904602</td>\n",
              "      <td>1.505051</td>\n",
              "      <td>0.188552</td>\n",
              "      <td>0.725028</td>\n",
              "    </tr>\n",
              "    <tr>\n",
              "      <th>std</th>\n",
              "      <td>0.486592</td>\n",
              "      <td>0.836071</td>\n",
              "      <td>0.477990</td>\n",
              "      <td>0.842373</td>\n",
              "      <td>1.613459</td>\n",
              "      <td>1.118148</td>\n",
              "      <td>0.391372</td>\n",
              "      <td>0.446751</td>\n",
              "    </tr>\n",
              "    <tr>\n",
              "      <th>min</th>\n",
              "      <td>0.000000</td>\n",
              "      <td>1.000000</td>\n",
              "      <td>0.000000</td>\n",
              "      <td>0.000000</td>\n",
              "      <td>0.000000</td>\n",
              "      <td>0.000000</td>\n",
              "      <td>0.000000</td>\n",
              "      <td>0.000000</td>\n",
              "    </tr>\n",
              "    <tr>\n",
              "      <th>25%</th>\n",
              "      <td>0.000000</td>\n",
              "      <td>2.000000</td>\n",
              "      <td>0.000000</td>\n",
              "      <td>1.000000</td>\n",
              "      <td>0.000000</td>\n",
              "      <td>0.500000</td>\n",
              "      <td>0.000000</td>\n",
              "      <td>0.000000</td>\n",
              "    </tr>\n",
              "    <tr>\n",
              "      <th>50%</th>\n",
              "      <td>0.000000</td>\n",
              "      <td>3.000000</td>\n",
              "      <td>0.000000</td>\n",
              "      <td>1.000000</td>\n",
              "      <td>0.000000</td>\n",
              "      <td>2.000000</td>\n",
              "      <td>0.000000</td>\n",
              "      <td>1.000000</td>\n",
              "    </tr>\n",
              "    <tr>\n",
              "      <th>75%</th>\n",
              "      <td>1.000000</td>\n",
              "      <td>3.000000</td>\n",
              "      <td>1.000000</td>\n",
              "      <td>2.000000</td>\n",
              "      <td>1.000000</td>\n",
              "      <td>2.000000</td>\n",
              "      <td>0.000000</td>\n",
              "      <td>1.000000</td>\n",
              "    </tr>\n",
              "    <tr>\n",
              "      <th>max</th>\n",
              "      <td>1.000000</td>\n",
              "      <td>3.000000</td>\n",
              "      <td>1.000000</td>\n",
              "      <td>4.000000</td>\n",
              "      <td>10.000000</td>\n",
              "      <td>3.000000</td>\n",
              "      <td>1.000000</td>\n",
              "      <td>1.000000</td>\n",
              "    </tr>\n",
              "  </tbody>\n",
              "</table>\n",
              "</div>"
            ],
            "text/plain": [
              "         Survived      Pclass         Sex  ...    Fare_cat           C           S\n",
              "count  891.000000  891.000000  891.000000  ...  891.000000  891.000000  891.000000\n",
              "mean     0.383838    2.308642    0.352413  ...    1.505051    0.188552    0.725028\n",
              "std      0.486592    0.836071    0.477990  ...    1.118148    0.391372    0.446751\n",
              "min      0.000000    1.000000    0.000000  ...    0.000000    0.000000    0.000000\n",
              "25%      0.000000    2.000000    0.000000  ...    0.500000    0.000000    0.000000\n",
              "50%      0.000000    3.000000    0.000000  ...    2.000000    0.000000    1.000000\n",
              "75%      1.000000    3.000000    1.000000  ...    2.000000    0.000000    1.000000\n",
              "max      1.000000    3.000000    1.000000  ...    3.000000    1.000000    1.000000\n",
              "\n",
              "[8 rows x 8 columns]"
            ]
          },
          "metadata": {
            "tags": []
          },
          "execution_count": 108
        }
      ]
    },
    {
      "cell_type": "markdown",
      "metadata": {
        "id": "l2G_Y-FNxwsD",
        "colab_type": "text"
      },
      "source": [
        "    For the neural network to work all the categories need to be numeric. This dataset is already cleaned so there is no need to change anything."
      ]
    },
    {
      "cell_type": "code",
      "metadata": {
        "id": "n0oD0L8Pxtdj",
        "colab_type": "code",
        "outputId": "fa985ef1-f26f-4381-e20a-2b43d90eeadb",
        "colab": {
          "base_uri": "https://localhost:8080/",
          "height": 238
        }
      },
      "source": [
        "from sklearn import preprocessing\n",
        "\n",
        "scaler = preprocessing.StandardScaler(copy=True)\n",
        "\n",
        "train_std = scaler.fit_transform(X=dataset.iloc[:,1:], y=dataset.iloc[:,0]) #X = All the rows, and columns after 1\n",
        "\n",
        "train_std"
      ],
      "execution_count": 109,
      "outputs": [
        {
          "output_type": "execute_result",
          "data": {
            "text/plain": [
              "array([[ 0.82737724, -0.73769513, -0.52257377, ..., -1.34677659,\n",
              "        -0.48204268,  0.61583843],\n",
              "       [-1.56610693,  1.35557354,  0.66521508, ...,  1.33773782,\n",
              "         2.0745051 , -1.62380254],\n",
              "       [ 0.82737724,  1.35557354, -0.52257377, ..., -0.45193845,\n",
              "        -0.48204268,  0.61583843],\n",
              "       ...,\n",
              "       [ 0.82737724,  1.35557354, -0.52257377, ...,  0.44289968,\n",
              "        -0.48204268,  0.61583843],\n",
              "       [-1.56610693, -0.73769513, -0.52257377, ...,  0.44289968,\n",
              "         2.0745051 , -1.62380254],\n",
              "       [ 0.82737724, -0.73769513, -0.52257377, ..., -1.34677659,\n",
              "        -0.48204268, -1.62380254]])"
            ]
          },
          "metadata": {
            "tags": []
          },
          "execution_count": 109
        }
      ]
    },
    {
      "cell_type": "markdown",
      "metadata": {
        "id": "XN2KQEchyTs8",
        "colab_type": "text"
      },
      "source": [
        "    Standard Scaler From the scikit-learn library "
      ]
    },
    {
      "cell_type": "code",
      "metadata": {
        "id": "jE5JZMJkzqUr",
        "colab_type": "code",
        "outputId": "f6b125f4-103e-492c-8f05-efe4a8e88fd2",
        "colab": {
          "base_uri": "https://localhost:8080/",
          "height": 51
        }
      },
      "source": [
        "print(train_std[:,0].mean())\n",
        "print(train_std[:,0].std())"
      ],
      "execution_count": 110,
      "outputs": [
        {
          "output_type": "stream",
          "text": [
            "-8.77213254024815e-17\n",
            "0.9999999999999999\n"
          ],
          "name": "stdout"
        }
      ]
    },
    {
      "cell_type": "code",
      "metadata": {
        "id": "owSoPtnQz0vz",
        "colab_type": "code",
        "outputId": "51f61494-2714-4e05-c39f-87826ac74e1e",
        "colab": {
          "base_uri": "https://localhost:8080/",
          "height": 85
        }
      },
      "source": [
        "from sklearn.model_selection import train_test_split\n",
        "\n",
        "X_train, X_test, y_train, y_test = train_test_split(train_std, dataset.iloc[:,0], test_size=.2)\n",
        "\n",
        "print(X_train.shape)\n",
        "print(X_test.shape)\n",
        "print(y_train.shape)\n",
        "print(y_test.shape)\n"
      ],
      "execution_count": 111,
      "outputs": [
        {
          "output_type": "stream",
          "text": [
            "(712, 7)\n",
            "(179, 7)\n",
            "(712,)\n",
            "(179,)\n"
          ],
          "name": "stdout"
        }
      ]
    },
    {
      "cell_type": "markdown",
      "metadata": {
        "id": "nOyFg8Xl1FDD",
        "colab_type": "text"
      },
      "source": [
        "    Splitting data into testing and training datasets"
      ]
    },
    {
      "cell_type": "markdown",
      "metadata": {
        "id": "QT8PtfvK2On0",
        "colab_type": "text"
      },
      "source": [
        "1. For each layer define the number of hidden and output layer nodes\n",
        "2. Define the number of hidden layers to use.\n",
        "3. Define the structure of the activation function in the output layer.\n",
        "\n",
        "  a. Binary: sigmoid\n",
        "\n",
        "  b. Multiclass: k nodes with a softmax\n",
        "\n",
        "  c. Regression: One node with no activation\n",
        "\n",
        "4. Defien a loss function.\n",
        "\n",
        "  a. Binary classification: binary cross-entropy\n",
        "\n",
        "  b. Multiclass classification: categorical cross-entropy\n",
        "\n",
        "  c. Regression: Mean square error\n",
        "  \n",
        "5. Define an optimizer.\n"
      ]
    },
    {
      "cell_type": "code",
      "metadata": {
        "id": "Psfb-0771KSh",
        "colab_type": "code",
        "colab": {}
      },
      "source": [
        "#%tensorflow_version 2.x\n",
        "from tensorflow.keras import models\n",
        "from tensorflow.keras import layers\n",
        "from tensorflow.keras import optimizers\n",
        "\n",
        "network = models.Sequential()"
      ],
      "execution_count": 0,
      "outputs": []
    },
    {
      "cell_type": "code",
      "metadata": {
        "id": "mrb400qy2L8L",
        "colab_type": "code",
        "colab": {}
      },
      "source": [
        "network.add(layers.Dense(units=16, activation=\"elu\", input_shape=(7,))) #input"
      ],
      "execution_count": 0,
      "outputs": []
    },
    {
      "cell_type": "markdown",
      "metadata": {
        "id": "M7aIu0Mh3A8q",
        "colab_type": "text"
      },
      "source": [
        "    Input Layer starts as dense, meaning that every node is connected from the start\n",
        "    Activation function we are using is elu"
      ]
    },
    {
      "cell_type": "code",
      "metadata": {
        "id": "_5AyLUNG4N7A",
        "colab_type": "code",
        "colab": {}
      },
      "source": [
        "network.add(layers.Dense(units=16, activation=\"elu\")) #Hidden\n",
        "network.add(layers.Dense(units=16, activation=\"elu\"))\n",
        "network.add(layers.Dense(units=16, activation=\"elu\"))"
      ],
      "execution_count": 0,
      "outputs": []
    },
    {
      "cell_type": "markdown",
      "metadata": {
        "id": "ZpJbSpyC4OYt",
        "colab_type": "text"
      },
      "source": [
        "    Adding Hidden layers. Adding more hidden layers until the error rate stops changing"
      ]
    },
    {
      "cell_type": "code",
      "metadata": {
        "id": "Mpidcyj_5S5Y",
        "colab_type": "code",
        "colab": {}
      },
      "source": [
        "network.add(layers.Dense(units=1, activation=\"sigmoid\"))"
      ],
      "execution_count": 0,
      "outputs": []
    },
    {
      "cell_type": "markdown",
      "metadata": {
        "id": "ex-5XruU5TMX",
        "colab_type": "text"
      },
      "source": [
        "    Output Layer uses the sigmoid function for values between 0 and 1"
      ]
    },
    {
      "cell_type": "code",
      "metadata": {
        "id": "KlQdHD2e5lNS",
        "colab_type": "code",
        "outputId": "8150aa0b-6a28-486b-c251-7d9890657a34",
        "colab": {
          "base_uri": "https://localhost:8080/",
          "height": 644
        }
      },
      "source": [
        "from tensorflow.keras.utils import plot_model\n",
        "plot_model(network, show_shapes=True)\n",
        "#? are unknown amount of observations."
      ],
      "execution_count": 116,
      "outputs": [
        {
          "output_type": "execute_result",
          "data": {
            "image/png": "[encoded data removed]",
            "text/plain": [
              "<IPython.core.display.Image object>"
            ]
          },
          "metadata": {
            "tags": []
          },
          "execution_count": 116
        }
      ]
    },
    {
      "cell_type": "markdown",
      "metadata": {
        "id": "rXjA4Srv6Idi",
        "colab_type": "text"
      },
      "source": [
        "    Visualize Model"
      ]
    },
    {
      "cell_type": "code",
      "metadata": {
        "id": "VKq3WVFG6LNK",
        "colab_type": "code",
        "colab": {}
      },
      "source": [
        "nag = optimizers.SGD(learning_rate=0.01, momentum=.9, nesterov=True )"
      ],
      "execution_count": 0,
      "outputs": []
    },
    {
      "cell_type": "code",
      "metadata": {
        "id": "spNve0KO7XHD",
        "colab_type": "code",
        "colab": {}
      },
      "source": [
        "network.compile(optimizer=nag, loss='binary_crossentropy', metrics=['accuracy'])"
      ],
      "execution_count": 0,
      "outputs": []
    },
    {
      "cell_type": "markdown",
      "metadata": {
        "id": "kxicwbL86Vu6",
        "colab_type": "text"
      },
      "source": [
        "    Compiling neural network: define the Loss, optimizer, and what metric we want to optimize\n",
        "    Binary classification: binary_crossentropy will be used for loss function"
      ]
    },
    {
      "cell_type": "code",
      "metadata": {
        "id": "WdszpCNa7ysv",
        "colab_type": "code",
        "outputId": "93258ffc-157a-4579-e92f-de08f7552065",
        "colab": {
          "base_uri": "https://localhost:8080/",
          "height": 374
        }
      },
      "source": [
        "history = network.fit(x=X_train, y=y_train, epochs=10, validation_data=(X_test, y_test), verbose=2)"
      ],
      "execution_count": 119,
      "outputs": [
        {
          "output_type": "stream",
          "text": [
            "Train on 712 samples, validate on 179 samples\n",
            "Epoch 1/10\n",
            "712/712 - 0s - loss: 0.5944 - acc: 0.6671 - val_loss: 0.4866 - val_acc: 0.7765\n",
            "Epoch 2/10\n",
            "712/712 - 0s - loss: 0.4989 - acc: 0.7514 - val_loss: 0.4393 - val_acc: 0.7877\n",
            "Epoch 3/10\n",
            "712/712 - 0s - loss: 0.4782 - acc: 0.7683 - val_loss: 0.4325 - val_acc: 0.8268\n",
            "Epoch 4/10\n",
            "712/712 - 0s - loss: 0.4724 - acc: 0.7795 - val_loss: 0.4241 - val_acc: 0.8212\n",
            "Epoch 5/10\n",
            "712/712 - 0s - loss: 0.4697 - acc: 0.7795 - val_loss: 0.4189 - val_acc: 0.8324\n",
            "Epoch 6/10\n",
            "712/712 - 0s - loss: 0.4625 - acc: 0.7921 - val_loss: 0.4172 - val_acc: 0.8156\n",
            "Epoch 7/10\n",
            "712/712 - 0s - loss: 0.4564 - acc: 0.7823 - val_loss: 0.4212 - val_acc: 0.8045\n",
            "Epoch 8/10\n",
            "712/712 - 0s - loss: 0.4523 - acc: 0.7851 - val_loss: 0.4034 - val_acc: 0.8101\n",
            "Epoch 9/10\n",
            "712/712 - 0s - loss: 0.4534 - acc: 0.7935 - val_loss: 0.4074 - val_acc: 0.8101\n",
            "Epoch 10/10\n",
            "712/712 - 0s - loss: 0.4468 - acc: 0.7865 - val_loss: 0.4044 - val_acc: 0.8045\n"
          ],
          "name": "stdout"
        }
      ]
    },
    {
      "cell_type": "markdown",
      "metadata": {
        "id": "PX0eHhs29Vhx",
        "colab_type": "text"
      },
      "source": [
        "    Model is trained"
      ]
    },
    {
      "cell_type": "code",
      "metadata": {
        "id": "8wUEaZFq9XW4",
        "colab_type": "code",
        "outputId": "f335d2a6-2533-4415-99d6-61ab449fae66",
        "colab": {
          "base_uri": "https://localhost:8080/",
          "height": 374
        }
      },
      "source": [
        "predict = network.predict(X_test[0:9, :])#First 10 rows, and all columns\n",
        "print(\"Probability of survival:\")\n",
        "print(predict)\n",
        "print(\"Actual Results:\")\n",
        "print(y_test[0:9])"
      ],
      "execution_count": 120,
      "outputs": [
        {
          "output_type": "stream",
          "text": [
            "Probability of survival:\n",
            "[[0.51134586]\n",
            " [0.70372236]\n",
            " [0.5743872 ]\n",
            " [0.09719801]\n",
            " [0.8436893 ]\n",
            " [0.90815336]\n",
            " [0.9200244 ]\n",
            " [0.6151158 ]\n",
            " [0.4789737 ]]\n",
            "Actual Results:\n",
            "642    0\n",
            "653    1\n",
            "802    1\n",
            "69     0\n",
            "880    1\n",
            "689    1\n",
            "257    1\n",
            "315    1\n",
            "92     0\n",
            "Name: Survived, dtype: int64\n"
          ],
          "name": "stdout"
        }
      ]
    },
    {
      "cell_type": "markdown",
      "metadata": {
        "id": "rVUhl4Kv-lKS",
        "colab_type": "text"
      },
      "source": [
        "    Testing the data"
      ]
    },
    {
      "cell_type": "code",
      "metadata": {
        "id": "wIJvIt8F-mxu",
        "colab_type": "code",
        "outputId": "a768c27e-0ab3-4795-db8e-93f3c1681b39",
        "colab": {
          "base_uri": "https://localhost:8080/",
          "height": 262
        }
      },
      "source": [
        "train_loss = history.history[\"loss\"]\n",
        "test_loss = history.history[\"val_loss\"]\n",
        "epoch_count = range(1,len(train_loss)+1)\n",
        "\n",
        "plt.plot(epoch_count, train_loss, \"r--\")\n",
        "plt.plot(epoch_count, test_loss, \"b--\")\n",
        "plt.legend([\"Training Loss\", \"Test Loss\"])\n",
        "plt.xlabel=(\"Epoch\")\n",
        "plt.ylabel=(\"Loss\")\n",
        "plt.show()"
      ],
      "execution_count": 121,
      "outputs": [
        {
          "output_type": "display_data",
          "data": {
            "image/png": "[encoded data removed]",
            "text/plain": [
              "<Figure size 432x288 with 1 Axes>"
            ]
          },
          "metadata": {
            "tags": []
          }
        }
      ]
    },
    {
      "cell_type": "code",
      "metadata": {
        "id": "cbsCuiEsI66k",
        "colab_type": "code",
        "outputId": "04276bc4-f659-4f6e-9e3d-00f9921cb2d2",
        "colab": {
          "base_uri": "https://localhost:8080/",
          "height": 262
        }
      },
      "source": [
        "train_accuracy = history.history[\"acc\"]\n",
        "test_accuracy = history.history[\"val_acc\"]\n",
        "\n",
        "plt.plot(epoch_count, train_accuracy, \"r--\")\n",
        "plt.plot(epoch_count, test_accuracy, \"b--\")\n",
        "plt.legend([\"Training Accuracy\", \"Testing Accuracy\"])\n",
        "plt.xlabel=(\"Epoch\")\n",
        "plt.ylabel=(\"Accuracy Score\")\n",
        "plt.show()"
      ],
      "execution_count": 122,
      "outputs": [
        {
          "output_type": "display_data",
          "data": {
            "image/png": "[encoded data removed]",
            "text/plain": [
              "<Figure size 432x288 with 1 Axes>"
            ]
          },
          "metadata": {
            "tags": []
          }
        }
      ]
    },
    {
      "cell_type": "code",
      "metadata": {
        "id": "lzjIIf8DKmQw",
        "colab_type": "code",
        "colab": {}
      },
      "source": [
        "from keras.callbacks import EarlyStopping, ModelCheckpoint"
      ],
      "execution_count": 0,
      "outputs": []
    },
    {
      "cell_type": "code",
      "metadata": {
        "id": "4BKMZDdZKryN",
        "colab_type": "code",
        "colab": {}
      },
      "source": [
        "callbacks=[EarlyStopping(monitor='val_loss', patience=5), ModelCheckpoint(filepath=\"bestmodel.h5\", monitor=\"val_loss\", save_best_only=True)]"
      ],
      "execution_count": 0,
      "outputs": []
    },
    {
      "cell_type": "code",
      "metadata": {
        "id": "8wNWTlRiMAnK",
        "colab_type": "code",
        "outputId": "a315ee55-a2e4-4788-f5d0-dd0c7c57de2c",
        "colab": {
          "base_uri": "https://localhost:8080/",
          "height": 374
        }
      },
      "source": [
        "history = network.fit(x=X_train, y=y_train, epochs=100, callbacks=callbacks, batch_size=10, validation_data=(X_test, y_test))"
      ],
      "execution_count": 125,
      "outputs": [
        {
          "output_type": "stream",
          "text": [
            "Train on 712 samples, validate on 179 samples\n",
            "Epoch 1/100\n",
            "712/712 [==============================] - 1s 976us/sample - loss: 0.4520 - acc: 0.7907 - val_loss: 0.3753 - val_acc: 0.8436\n",
            "Epoch 2/100\n",
            "712/712 [==============================] - 0s 195us/sample - loss: 0.4478 - acc: 0.7963 - val_loss: 0.4265 - val_acc: 0.7877\n",
            "Epoch 3/100\n",
            "712/712 [==============================] - 0s 168us/sample - loss: 0.4362 - acc: 0.8020 - val_loss: 0.4163 - val_acc: 0.7598\n",
            "Epoch 4/100\n",
            "712/712 [==============================] - 0s 195us/sample - loss: 0.4440 - acc: 0.8076 - val_loss: 0.3689 - val_acc: 0.8324\n",
            "Epoch 5/100\n",
            "712/712 [==============================] - 0s 210us/sample - loss: 0.4370 - acc: 0.8006 - val_loss: 0.3624 - val_acc: 0.8436\n",
            "Epoch 6/100\n",
            "712/712 [==============================] - 0s 183us/sample - loss: 0.4302 - acc: 0.7963 - val_loss: 0.4067 - val_acc: 0.8324\n",
            "Epoch 7/100\n",
            "712/712 [==============================] - 0s 170us/sample - loss: 0.4372 - acc: 0.8062 - val_loss: 0.3786 - val_acc: 0.8101\n",
            "Epoch 8/100\n",
            "712/712 [==============================] - 0s 165us/sample - loss: 0.4232 - acc: 0.8062 - val_loss: 0.3656 - val_acc: 0.8436\n",
            "Epoch 9/100\n",
            "712/712 [==============================] - 0s 198us/sample - loss: 0.4254 - acc: 0.8034 - val_loss: 0.4199 - val_acc: 0.8045\n",
            "Epoch 10/100\n",
            "712/712 [==============================] - 0s 189us/sample - loss: 0.4277 - acc: 0.8090 - val_loss: 0.3694 - val_acc: 0.8380\n"
          ],
          "name": "stdout"
        }
      ]
    },
    {
      "cell_type": "code",
      "metadata": {
        "id": "LaW1wXFUNLWZ",
        "colab_type": "code",
        "outputId": "20189e27-9331-4a86-af63-8752b6fff720",
        "colab": {
          "base_uri": "https://localhost:8080/",
          "height": 262
        }
      },
      "source": [
        "train_loss = history.history[\"loss\"]\n",
        "test_loss = history.history[\"val_loss\"]\n",
        "epoch_count = range(1,len(train_loss)+1)\n",
        "\n",
        "plt.plot(epoch_count, train_loss, \"r--\")\n",
        "plt.plot(epoch_count, test_loss, \"b--\")\n",
        "plt.legend([\"Training Loss\", \"Test Loss\"])\n",
        "plt.xlabel=(\"Epoch\")\n",
        "plt.ylabel=(\"Loss\")\n",
        "plt.show()"
      ],
      "execution_count": 126,
      "outputs": [
        {
          "output_type": "display_data",
          "data": {
            "image/png": "[encoded data removed]",
            "text/plain": [
              "<Figure size 432x288 with 1 Axes>"
            ]
          },
          "metadata": {
            "tags": []
          }
        }
      ]
    },
    {
      "cell_type": "code",
      "metadata": {
        "id": "5N_kNmGoOVDz",
        "colab_type": "code",
        "colab": {}
      },
      "source": [
        "network_drop = models.Sequential()\n",
        "network_drop.add(layers.Dense(units=16, input_shape=(7,)))\n",
        "\n",
        "network_drop.add(layers.Dense(units=16, activation=\"elu\")) #Hidden\n",
        "network_drop.add(layers.Dropout(.2))\n",
        "network_drop.add(layers.Dense(units=16, activation=\"elu\"))\n",
        "network_drop.add(layers.Dropout(.2))\n",
        "network_drop.add(layers.Dense(units=16, activation=\"elu\"))\n",
        "network_drop.add(layers.Dropout(.2))\n",
        "\n",
        "network_drop.add(layers.Dense(units=1, activation=\"sigmoid\"))\n",
        "\n",
        "network_drop.compile(optimizer=nag, loss='binary_crossentropy', metrics=['accuracy'])"
      ],
      "execution_count": 0,
      "outputs": []
    },
    {
      "cell_type": "code",
      "metadata": {
        "id": "7leNkn3xP5s_",
        "colab_type": "code",
        "outputId": "99c27fdf-230d-4220-8712-a13666c553b1",
        "colab": {
          "base_uri": "https://localhost:8080/",
          "height": 374
        }
      },
      "source": [
        "history = network_drop.fit(x=X_train, y=y_train, epochs=100, callbacks=callbacks, batch_size=10, validation_data=(X_test, y_test))"
      ],
      "execution_count": 128,
      "outputs": [
        {
          "output_type": "stream",
          "text": [
            "Train on 712 samples, validate on 179 samples\n",
            "Epoch 1/100\n",
            "712/712 [==============================] - 0s 678us/sample - loss: 0.5267 - acc: 0.7444 - val_loss: 0.4475 - val_acc: 0.8101\n",
            "Epoch 2/100\n",
            "712/712 [==============================] - 0s 181us/sample - loss: 0.4984 - acc: 0.7683 - val_loss: 0.4430 - val_acc: 0.7933\n",
            "Epoch 3/100\n",
            "712/712 [==============================] - 0s 175us/sample - loss: 0.4741 - acc: 0.7865 - val_loss: 0.3893 - val_acc: 0.8268\n",
            "Epoch 4/100\n",
            "712/712 [==============================] - 0s 191us/sample - loss: 0.4668 - acc: 0.7907 - val_loss: 0.4050 - val_acc: 0.8156\n",
            "Epoch 5/100\n",
            "712/712 [==============================] - 0s 189us/sample - loss: 0.4648 - acc: 0.7837 - val_loss: 0.3886 - val_acc: 0.8268\n",
            "Epoch 6/100\n",
            "712/712 [==============================] - 0s 173us/sample - loss: 0.4661 - acc: 0.7837 - val_loss: 0.3910 - val_acc: 0.8212\n",
            "Epoch 7/100\n",
            "712/712 [==============================] - 0s 200us/sample - loss: 0.4578 - acc: 0.7992 - val_loss: 0.3938 - val_acc: 0.8156\n",
            "Epoch 8/100\n",
            "712/712 [==============================] - 0s 196us/sample - loss: 0.4589 - acc: 0.7935 - val_loss: 0.4016 - val_acc: 0.8156\n",
            "Epoch 9/100\n",
            "712/712 [==============================] - 0s 196us/sample - loss: 0.4556 - acc: 0.8104 - val_loss: 0.3900 - val_acc: 0.8101\n",
            "Epoch 10/100\n",
            "712/712 [==============================] - 0s 221us/sample - loss: 0.4625 - acc: 0.8006 - val_loss: 0.3916 - val_acc: 0.7765\n"
          ],
          "name": "stdout"
        }
      ]
    },
    {
      "cell_type": "code",
      "metadata": {
        "id": "JfymNNqBRlZF",
        "colab_type": "code",
        "outputId": "dab50283-bc6c-4786-8aa3-7bf0ba8036da",
        "colab": {
          "base_uri": "https://localhost:8080/",
          "height": 262
        }
      },
      "source": [
        "train_loss = history.history[\"loss\"]\n",
        "test_loss = history.history[\"val_loss\"]\n",
        "epoch_count = range(1,len(train_loss)+1)\n",
        "\n",
        "plt.plot(epoch_count, train_loss, \"r--\")\n",
        "plt.plot(epoch_count, test_loss, \"b--\")\n",
        "plt.legend([\"Training Loss\", \"Test Loss\"])\n",
        "plt.xlabel=(\"Epoch\")\n",
        "plt.ylabel=(\"Loss\")\n",
        "plt.show()"
      ],
      "execution_count": 129,
      "outputs": [
        {
          "output_type": "display_data",
          "data": {
            "image/png": "[encoded data removed]",
            "text/plain": [
              "<Figure size 432x288 with 1 Axes>"
            ]
          },
          "metadata": {
            "tags": []
          }
        }
      ]
    }
  ]
}